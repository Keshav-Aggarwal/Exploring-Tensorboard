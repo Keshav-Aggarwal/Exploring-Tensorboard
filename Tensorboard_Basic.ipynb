{
  "nbformat": 4,
  "nbformat_minor": 0,
  "metadata": {
    "accelerator": "GPU",
    "colab": {
      "name": "Tensorboard_Model_comparision_1.ipynb",
      "provenance": [],
      "private_outputs": true,
      "collapsed_sections": []
    },
    "kernelspec": {
      "display_name": "Python 3",
      "language": "python",
      "name": "python3"
    },
    "language_info": {
      "codemirror_mode": {
        "name": "ipython",
        "version": 3
      },
      "file_extension": ".py",
      "mimetype": "text/x-python",
      "name": "python",
      "nbconvert_exporter": "python",
      "pygments_lexer": "ipython3",
      "version": "3.7.7"
    }
  },
  "cells": [
    {
      "cell_type": "markdown",
      "metadata": {
        "id": "Ikrn4LZnWKSJ",
        "colab_type": "text"
      },
      "source": [
        "### IMPORT DEPENDENCIES"
      ]
    },
    {
      "cell_type": "code",
      "metadata": {
        "colab_type": "code",
        "id": "6QxAXzcSPZjr",
        "colab": {}
      },
      "source": [
        "import tensorflow as tf\n",
        "import tensorflow_datasets as tfds\n",
        "import tensorflow.keras.layers as layers"
      ],
      "execution_count": null,
      "outputs": []
    },
    {
      "cell_type": "markdown",
      "metadata": {
        "id": "c92PKlo6WKSQ",
        "colab_type": "text"
      },
      "source": [
        "### Load Dataset"
      ]
    },
    {
      "cell_type": "code",
      "metadata": {
        "colab_type": "code",
        "id": "Maft7T98QAz9",
        "colab": {}
      },
      "source": [
        "train, info = tfds.load('tf_flowers', split='train[:90%]', with_info=True, as_supervised=True)\n",
        "validation = tfds.load('tf_flowers', split='train[90%:]', as_supervised=True )"
      ],
      "execution_count": null,
      "outputs": []
    },
    {
      "cell_type": "markdown",
      "metadata": {
        "id": "07wjiyQXWKSV",
        "colab_type": "text"
      },
      "source": [
        "### Normalize and prepare dataset"
      ]
    },
    {
      "cell_type": "code",
      "metadata": {
        "colab_type": "code",
        "id": "ymMgo7QBSNd2",
        "colab": {}
      },
      "source": [
        "def normalize(image, label):\n",
        "  img = tf.cast(image, tf.float32)\n",
        "  img = img/255.0\n",
        "  img = tf.image.resize(img, (224,224))\n",
        "  return img, label\n",
        "\n",
        "def applyPreprocessing(dataset, isNormalize=False):\n",
        "  if(isNormalize):\n",
        "    dataset = dataset.map(normalize, num_parallel_calls=tf.data.experimental.AUTOTUNE)\n",
        "  dataset = dataset.shuffle(128)\n",
        "  dataset = dataset.prefetch(tf.data.experimental.AUTOTUNE)\n",
        "  dataset = dataset.batch(64)\n",
        "  return dataset\n"
      ],
      "execution_count": null,
      "outputs": []
    },
    {
      "cell_type": "code",
      "metadata": {
        "colab_type": "code",
        "id": "bAqYch-6TvBR",
        "colab": {}
      },
      "source": [
        "train = applyPreprocessing(train, True)\n",
        "validation = applyPreprocessing(validation, True)"
      ],
      "execution_count": null,
      "outputs": []
    },
    {
      "cell_type": "markdown",
      "metadata": {
        "id": "PgrYu10oWKSd",
        "colab_type": "text"
      },
      "source": [
        "### Create LearningRateScheduler Callback"
      ]
    },
    {
      "cell_type": "code",
      "metadata": {
        "colab_type": "code",
        "id": "779V7ADHBKJ9",
        "colab": {}
      },
      "source": [
        "logdir = 'logs' # Path to the directory for logging\n",
        "file_writer = tf.summary.create_file_writer(logdir + \"/metrics\")\n",
        "file_writer.set_as_default()\n",
        "tensorboard_callback = tf.keras.callbacks.TensorBoard(log_dir=logdir, histogram_freq=1)\n",
        "\n",
        "# Function to return the reduced the learning rate based on epoch\n",
        "def lr_schedule(epoch):\n",
        "  learning_rate = 0.2\n",
        "  if epoch > 1:\n",
        "    learning_rate = 0.02\n",
        "  if epoch > 2:\n",
        "    learning_rate = 0.01+epoch*0.001\n",
        "  tf.summary.scalar('Learning Rate', data=learning_rate, step=epoch)\n",
        "  return learning_rate\n",
        "\n",
        "lr_callback = tf.keras.callbacks.LearningRateScheduler(lr_schedule, verbose=1)"
      ],
      "execution_count": null,
      "outputs": []
    },
    {
      "cell_type": "markdown",
      "metadata": {
        "id": "itzdeExRWKSh",
        "colab_type": "text"
      },
      "source": [
        "### Define custom model"
      ]
    },
    {
      "cell_type": "code",
      "metadata": {
        "colab_type": "code",
        "id": "Bgx26Z1wUlO1",
        "colab": {}
      },
      "source": [
        "model = tf.keras.Sequential([\n",
        "                             #layers.Reshape((256,256,3)),\n",
        "                             tf.keras.layers.InputLayer(input_shape=(224,224,3)),\n",
        "                              layers.Conv2D(filters=32, kernel_size=3, activation='relu'),\n",
        "                             layers.MaxPool2D(),\n",
        "                             layers.Conv2D(filters=64, kernel_size=3, activation='relu'),\n",
        "                             layers.MaxPool2D(),\n",
        "                             layers.Dropout(0.25),\n",
        "                             layers.Conv2D(filters=128, kernel_size=3, activation='relu'),\n",
        "                             layers.MaxPool2D(),\n",
        "                             layers.Dropout(0.25),\n",
        "                             layers.Flatten(),\n",
        "                             layers.Dense(128, activation='relu'),\n",
        "                             layers.Dropout(0.25),\n",
        "                             layers.Dense(5, activation='softmax')\n",
        "])\n",
        "model.summary()"
      ],
      "execution_count": null,
      "outputs": []
    },
    {
      "cell_type": "code",
      "metadata": {
        "colab_type": "code",
        "id": "7FHWQQ_wWBx9",
        "colab": {}
      },
      "source": [
        "### Train the model"
      ],
      "execution_count": null,
      "outputs": []
    },
    {
      "cell_type": "code",
      "metadata": {
        "colab_type": "code",
        "id": "xqW22YqCX7vv",
        "colab": {}
      },
      "source": [
        "model.compile(optimizer='adam', loss='sparse_categorical_crossentropy', metrics=['accuracy'])\n",
        "model.fit(train, validation_data=validation, epochs=3, callbacks=[lr_callback, tensorboard_callback])"
      ],
      "execution_count": null,
      "outputs": []
    },
    {
      "cell_type": "code",
      "metadata": {
        "colab_type": "code",
        "id": "0zrNTLQ3YInK",
        "colab": {}
      },
      "source": [
        "### Use the tensorflow hub to load the pretrained mobilenet and do transfer learning"
      ],
      "execution_count": null,
      "outputs": []
    },
    {
      "cell_type": "code",
      "metadata": {
        "colab_type": "code",
        "id": "SfIFSFb_NAlM",
        "colab": {}
      },
      "source": [
        "import tensorflow_hub as hub\n",
        "feature_extractor_url = \"https://tfhub.dev/google/tf2-preview/mobilenet_v2/feature_vector/2\"\n",
        "feature_extractor_layer = hub.KerasLayer(feature_extractor_url)\n",
        "\n",
        "logdir = 'logs/transfer_training'\n",
        "tensorboard_callback = tf.keras.callbacks.TensorBoard(log_dir=logdir, histogram_freq=1)\n",
        "\n",
        "feature_extractor_layer.trainable = False\n",
        "model_2 = tf.keras.Sequential([\n",
        "  tf.keras.layers.InputLayer(input_shape=(224,224, 3)),\n",
        "  feature_extractor_layer,\n",
        "  layers.Dense(5, activation='softmax', kernel_regularizer=tf.keras.regularizers.l2(0.0001))\n",
        "])\n",
        "model_2.build((None,255,255, 3))\n",
        "\n",
        "model_2.compile(optimizer='adam', loss='binary_crossentropy')\n",
        "\n",
        "model_2.fit(train, validation_data=validation, epochs=3, callbacks=[lr_callback, tensorboard_callback])"
      ],
      "execution_count": null,
      "outputs": []
    },
    {
      "cell_type": "markdown",
      "metadata": {
        "id": "iLRvlkbJWKS0",
        "colab_type": "text"
      },
      "source": [
        "### Visualize the tensorboard"
      ]
    },
    {
      "cell_type": "code",
      "metadata": {
        "colab_type": "code",
        "id": "GKpENjIILxGr",
        "colab": {}
      },
      "source": [
        "%load_ext tensorboard\n",
        "%tensorboard --logdir logs/"
      ],
      "execution_count": null,
      "outputs": []
    }
  ]
}